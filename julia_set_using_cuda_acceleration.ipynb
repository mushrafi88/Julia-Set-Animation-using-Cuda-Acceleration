{
  "nbformat": 4,
  "nbformat_minor": 0,
  "metadata": {
    "colab": {
      "private_outputs": true,
      "provenance": [],
      "authorship_tag": "ABX9TyOfRavLHB1Qwq9LZRxpmmis",
      "include_colab_link": true
    },
    "kernelspec": {
      "name": "python3",
      "display_name": "Python 3"
    },
    "language_info": {
      "name": "python"
    },
    "accelerator": "GPU",
    "gpuClass": "standard"
  },
  "cells": [
    {
      "cell_type": "markdown",
      "metadata": {
        "id": "view-in-github",
        "colab_type": "text"
      },
      "source": [
        "<a href=\"https://colab.research.google.com/github/mushrafi88/Julia-Set-Animation-using-Cuda-Acceleration/blob/master/julia_set_using_cuda_acceleration.ipynb\" target=\"_parent\"><img src=\"https://colab.research.google.com/assets/colab-badge.svg\" alt=\"Open In Colab\"/></a>"
      ]
    },
    {
      "cell_type": "code",
      "execution_count": null,
      "metadata": {
        "id": "2CtcvfaAZBzJ"
      },
      "outputs": [],
      "source": [
        "import numpy as np\n",
        "import matplotlib.pyplot as plt\n",
        "from numba import cuda\n",
        "\n",
        "@cuda.jit(device=True)\n",
        "def julia_kernel(z, c, max_iterations):\n",
        "    for i in range(max_iterations):\n",
        "        if abs(z) > 2:\n",
        "            return i\n",
        "        z = z**2 + c\n",
        "    return max_iterations\n",
        "\n",
        "@cuda.jit\n",
        "def compute_julia_set_kernel(julia_set, c, max_iterations, width, height, zoom):\n",
        "    x, y = cuda.grid(2)\n",
        "    if x < width and y < height:\n",
        "        zx = -2 * zoom + 4 * zoom * x / (width - 1)\n",
        "        zy = -2 * zoom + 4 * zoom * y / (height - 1)\n",
        "        z = complex(zx, zy)\n",
        "        julia_set[y, x] = julia_kernel(z, c, max_iterations)\n",
        "\n",
        "def compute_julia_set(c, max_iterations=1000, width=800, height=800, zoom=1):\n",
        "    julia_set = np.zeros((height, width), dtype=np.uint16)\n",
        "    threadsperblock = (16, 16)\n",
        "    blockspergrid_x = int(np.ceil(width / threadsperblock[0]))\n",
        "    blockspergrid_y = int(np.ceil(height / threadsperblock[1]))\n",
        "    blockspergrid = (blockspergrid_x, blockspergrid_y)\n",
        "    compute_julia_set_kernel[blockspergrid, threadsperblock](julia_set, c, max_iterations, width, height, zoom)\n",
        "    return julia_set\n",
        "\n",
        "def plot_julia_set(c, filename, max_iterations=1000, width=800, height=800, zoom=1):\n",
        "    julia_set = compute_julia_set(c, max_iterations, width, height, zoom)\n",
        "    plt.figure(figsize=(width / 100, height / 100), dpi=100)\n",
        "    plt.imshow(julia_set, cmap='viridis', extent=(-2 * zoom, 2 * zoom, -2 * zoom, 2 * zoom))\n",
        "    plt.axis('off')\n",
        "    plt.savefig(filename, bbox_inches='tight', pad_inches=0)\n",
        "    plt.show()\n",
        "\n",
        "a = 1.2\n",
        "c = 0.7885 * np.exp(1j * a)\n",
        "filename = \"julia_set_a_{}.png\".format(a)\n",
        "\n",
        "plot_julia_set(c, filename)\n"
      ]
    },
    {
      "cell_type": "code",
      "source": [
        "import numpy as np\n",
        "import matplotlib.pyplot as plt\n",
        "from numba import cuda\n",
        "import os\n",
        "\n",
        "@cuda.jit(device=True)\n",
        "def julia_kernel(z, c, max_iterations):\n",
        "    for i in range(max_iterations):\n",
        "        if abs(z) > 2:\n",
        "            return i\n",
        "        z = z**2 + c\n",
        "    return max_iterations\n",
        "\n",
        "@cuda.jit\n",
        "def compute_julia_set_kernel(julia_set, c, max_iterations, width, height, zoom):\n",
        "    x, y = cuda.grid(2)\n",
        "    if x < width and y < height:\n",
        "        zx = -2 * zoom + 4 * zoom * x / (width - 1)\n",
        "        zy = -2 * zoom + 4 * zoom * y / (height - 1)\n",
        "        z = complex(zx, zy)\n",
        "        julia_set[y, x] = julia_kernel(z, c, max_iterations)\n",
        "\n",
        "def compute_julia_set(c, max_iterations=1000, width=800, height=800, zoom=1):\n",
        "    julia_set = np.zeros((height, width), dtype=np.uint16)\n",
        "    threadsperblock = (16, 16)\n",
        "    blockspergrid_x = int(np.ceil(width / threadsperblock[0]))\n",
        "    blockspergrid_y = int(np.ceil(height / threadsperblock[1]))\n",
        "    blockspergrid = (blockspergrid_x, blockspergrid_y)\n",
        "    compute_julia_set_kernel[blockspergrid, threadsperblock](julia_set, c, max_iterations, width, height, zoom)\n",
        "    return julia_set\n",
        "\n",
        "def save_julia_set_image(c, filename, max_iterations=1000, width=800, height=800, zoom=1):\n",
        "    julia_set = compute_julia_set(c, max_iterations, width, height, zoom)\n",
        "    plt.figure(figsize=(width / 100, height / 100), dpi=100)\n",
        "    plt.imshow(julia_set, cmap='viridis', extent=(-2 * zoom, 2 * zoom, -2 * zoom, 2 * zoom))\n",
        "    plt.axis('off')\n",
        "    plt.savefig(filename, bbox_inches='tight', pad_inches=0)\n",
        "    plt.close()\n",
        "\n",
        "def generate_julia_sequence(output_folder, num_images=1000):\n",
        "    if not os.path.exists(output_folder):\n",
        "        os.makedirs(output_folder)\n",
        "\n",
        "    a_values = np.linspace(0, 2 * np.pi, num_images)\n",
        "    for i, a in enumerate(a_values):\n",
        "        c = 0.7885 * np.exp(1j * a)\n",
        "        filename = os.path.join(output_folder, f\"julia_set_a_{i}.png\")\n",
        "        save_julia_set_image(c, filename)\n",
        "        print(f\"Saved image {i+1}/{num_images}: {filename}\")\n",
        "\n",
        "output_folder = \"julia_sequence\"\n",
        "generate_julia_sequence(output_folder)\n"
      ],
      "metadata": {
        "id": "t1xEB8GMZOci"
      },
      "execution_count": null,
      "outputs": []
    },
    {
      "cell_type": "code",
      "source": [],
      "metadata": {
        "id": "iIm7cX4_a3jf"
      },
      "execution_count": null,
      "outputs": []
    }
  ]
}
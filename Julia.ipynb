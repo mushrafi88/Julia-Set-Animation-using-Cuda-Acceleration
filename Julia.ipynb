{
 "cells": [
  {
   "cell_type": "markdown",
   "metadata": {},
   "source": [
    "### Julia set Animation using SageMath's Built in module"
   ]
  },
  {
   "cell_type": "code",
   "execution_count": 9,
   "metadata": {
    "ExecuteTime": {
     "end_time": "2020-08-31T09:44:13.021452Z",
     "start_time": "2020-08-31T09:44:13.003296Z"
    }
   },
   "outputs": [],
   "source": [
    "%display latex\n",
    "import warnings; warnings.simplefilter('ignore')\n",
    "from IPython.core.interactiveshell import InteractiveShell\n",
    "InteractiveShell.ast_node_interactivity = \"all\""
   ]
  },
  {
   "cell_type": "code",
   "execution_count": 10,
   "metadata": {
    "ExecuteTime": {
     "end_time": "2020-08-31T09:44:15.295871Z",
     "start_time": "2020-08-31T09:44:15.146240Z"
    }
   },
   "outputs": [],
   "source": [
    "! mkdir -p images images-test"
   ]
  },
  {
   "cell_type": "code",
   "execution_count": 16,
   "metadata": {
    "ExecuteTime": {
     "end_time": "2020-08-31T09:49:24.005533Z",
     "start_time": "2020-08-31T09:49:20.776251Z"
    },
    "execution": {
     "iopub.execute_input": "2020-08-30T22:54:32.809043Z",
     "iopub.status.busy": "2020-08-30T22:54:32.808524Z",
     "iopub.status.idle": "2020-08-30T22:54:32.887290Z",
     "shell.execute_reply": "2020-08-30T22:54:32.883746Z",
     "shell.execute_reply.started": "2020-08-30T22:54:32.808999Z"
    }
   },
   "outputs": [
    {
     "data": {
      "text/html": [
       "<html><script type=\"math/tex; mode=display\">\\newcommand{\\Bold}[1]{\\mathbf{#1}}63</script></html>"
      ],
      "text/plain": [
       "63"
      ]
     },
     "execution_count": 16,
     "metadata": {},
     "output_type": "execute_result"
    }
   ],
   "source": [
    "R.<z> = CC[]\n",
    "a = var('a')\n",
    "lis = []\n",
    "f = z^2+0.7885*exp(I*a)\n",
    "iter = 0 \n",
    "for a in srange(0.0,2*pi,0.001):\n",
    "    f = z^2+0.7885*exp(I*a)\n",
    "    j=julia_plot(f,mandelbrot=False,base_color='#713236')\n",
    "    j.save('images/img{}.png'.format(iter))\n",
    "    iter+=1\n",
    "iter    "
   ]
  },
  {
   "cell_type": "code",
   "execution_count": 54,
   "metadata": {
    "ExecuteTime": {
     "end_time": "2020-08-31T08:52:26.079036Z",
     "start_time": "2020-08-31T08:52:00.720842Z"
    },
    "collapsed": true
   },
   "outputs": [
    {
     "name": "stdout",
     "output_type": "stream",
     "text": [
      "ffmpeg version n4.3.1 Copyright (c) 2000-2020 the FFmpeg developers\n",
      "  built with gcc 10.1.0 (GCC)\n",
      "  configuration: --prefix=/usr --disable-debug --disable-static --disable-stripping --enable-avisynth --enable-fontconfig --enable-gmp --enable-gnutls --enable-gpl --enable-ladspa --enable-libaom --enable-libass --enable-libbluray --enable-libdav1d --enable-libdrm --enable-libfreetype --enable-libfribidi --enable-libgsm --enable-libiec61883 --enable-libjack --enable-libmfx --enable-libmodplug --enable-libmp3lame --enable-libopencore_amrnb --enable-libopencore_amrwb --enable-libopenjpeg --enable-libopus --enable-libpulse --enable-librav1e --enable-libsoxr --enable-libspeex --enable-libsrt --enable-libssh --enable-libtheora --enable-libv4l2 --enable-libvidstab --enable-libvmaf --enable-libvorbis --enable-libvpx --enable-libwebp --enable-libx264 --enable-libx265 --enable-libxcb --enable-libxml2 --enable-libxvid --enable-nvdec --enable-nvenc --enable-omx --enable-shared --enable-version3\n",
      "  libavutil      56. 51.100 / 56. 51.100\n",
      "  libavcodec     58. 91.100 / 58. 91.100\n",
      "  libavformat    58. 45.100 / 58. 45.100\n",
      "  libavdevice    58. 10.100 / 58. 10.100\n",
      "  libavfilter     7. 85.100 /  7. 85.100\n",
      "  libswscale      5.  7.100 /  5.  7.100\n",
      "  libswresample   3.  7.100 /  3.  7.100\n",
      "  libpostproc    55.  7.100 / 55.  7.100\n",
      "Input #0, image2, from 'images/img%01d.png':\n",
      "  Duration: 00:04:11.36, start: 0.000000, bitrate: N/A\n",
      "    Stream #0:0: Video: png, rgb24(pc), 500x500, 25 fps, 25 tbr, 25 tbn, 25 tbc\n",
      "Stream mapping:\n",
      "  Stream #0:0 -> #0:0 (png (native) -> h264 (libx264))\n",
      "Press [q] to stop, [?] for help\n",
      "\u001b[1;36m[libx264 @ 0x5568d61d3380] \u001b[0musing cpu capabilities: MMX2 SSE2Fast SSSE3 SSE4.2 AVX FMA3 BMI2 AVX2\n",
      "\u001b[1;36m[libx264 @ 0x5568d61d3380] \u001b[0mprofile High 4:4:4 Predictive, level 3.0, 4:4:4, 8-bit\n",
      "\u001b[1;36m[libx264 @ 0x5568d61d3380] \u001b[0m264 - core 160 r3011 cde9a93 - H.264/MPEG-4 AVC codec - Copyleft 2003-2020 - http://www.videolan.org/x264.html - options: cabac=1 ref=3 deblock=1:0:0 analyse=0x3:0x113 me=hex subme=7 psy=1 psy_rd=1.00:0.00 mixed_ref=1 me_range=16 chroma_me=1 trellis=1 8x8dct=1 cqm=0 deadzone=21,11 fast_pskip=1 chroma_qp_offset=4 threads=6 lookahead_threads=1 sliced_threads=0 nr=0 decimate=1 interlaced=0 bluray_compat=0 constrained_intra=0 bframes=3 b_pyramid=2 b_adapt=1 b_bias=0 direct=1 weightb=1 open_gop=0 weightp=2 keyint=250 keyint_min=25 scenecut=40 intra_refresh=0 rc_lookahead=40 rc=crf mbtree=1 crf=23.0 qcomp=0.60 qpmin=0 qpmax=69 qpstep=4 ip_ratio=1.40 aq=1:1.00\n",
      "Output #0, mp4, to 'julia6.mp4':\n",
      "  Metadata:\n",
      "    encoder         : Lavf58.45.100\n",
      "    Stream #0:0: Video: h264 (libx264) (avc1 / 0x31637661), yuv444p, 500x500, q=-1--1, 25 fps, 12800 tbn, 25 tbc\n",
      "    Metadata:\n",
      "      encoder         : Lavc58.91.100 libx264\n",
      "    Side data:\n",
      "      cpb: bitrate max/min/avg: 0/0/0 buffer size: 0 vbv_delay: N/A\n",
      "frame= 6284 fps=250 q=-1.0 Lsize=    8778kB time=00:04:11.24 bitrate= 286.2kbits/s speed=9.98x    \n",
      "video:8703kB audio:0kB subtitle:0kB other streams:0kB global headers:0kB muxing overhead: 0.854169%\n",
      "\u001b[1;36m[libx264 @ 0x5568d61d3380] \u001b[0mframe I:30    Avg QP:11.89  size: 10618\n",
      "\u001b[1;36m[libx264 @ 0x5568d61d3380] \u001b[0mframe P:1605  Avg QP:17.60  size:  3101\n",
      "\u001b[1;36m[libx264 @ 0x5568d61d3380] \u001b[0mframe B:4649  Avg QP:22.15  size:   778\n",
      "\u001b[1;36m[libx264 @ 0x5568d61d3380] \u001b[0mconsecutive B-frames:  1.2%  0.2%  0.7% 97.9%\n",
      "\u001b[1;36m[libx264 @ 0x5568d61d3380] \u001b[0mmb I  I16..4: 24.3% 50.7% 25.0%\n",
      "\u001b[1;36m[libx264 @ 0x5568d61d3380] \u001b[0mmb P  I16..4:  0.2%  0.3%  0.3%  P16..4:  6.8%  5.1%  3.2%  0.0%  0.0%    skip:84.0%\n",
      "\u001b[1;36m[libx264 @ 0x5568d61d3380] \u001b[0mmb B  I16..4:  0.0%  0.2%  0.0%  B16..8:  5.2%  0.8%  0.5%  direct: 1.4%  skip:91.9%  L0:40.8% L1:51.6% BI: 7.6%\n",
      "\u001b[1;36m[libx264 @ 0x5568d61d3380] \u001b[0m8x8 transform intra:52.2% inter:8.4%\n",
      "\u001b[1;36m[libx264 @ 0x5568d61d3380] \u001b[0mcoded y,u,v intra: 20.3% 2.6% 9.2% inter: 2.6% 0.0% 0.1%\n",
      "\u001b[1;36m[libx264 @ 0x5568d61d3380] \u001b[0mi16 v,h,dc,p: 77%  7% 15%  0%\n",
      "\u001b[1;36m[libx264 @ 0x5568d61d3380] \u001b[0mi8 v,h,dc,ddl,ddr,vr,hd,vl,hu: 22% 14% 59%  1%  1%  1%  1%  1%  1%\n",
      "\u001b[1;36m[libx264 @ 0x5568d61d3380] \u001b[0mi4 v,h,dc,ddl,ddr,vr,hd,vl,hu: 21% 16% 26%  7%  6%  6%  7%  5%  6%\n",
      "\u001b[1;36m[libx264 @ 0x5568d61d3380] \u001b[0mWeighted P-Frames: Y:6.6% UV:0.1%\n",
      "\u001b[1;36m[libx264 @ 0x5568d61d3380] \u001b[0mref P L0: 63.0%  7.6% 16.0% 12.4%  1.0%\n",
      "\u001b[1;36m[libx264 @ 0x5568d61d3380] \u001b[0mref B L0: 81.6% 14.3%  4.1%\n",
      "\u001b[1;36m[libx264 @ 0x5568d61d3380] \u001b[0mref B L1: 94.9%  5.1%\n",
      "\u001b[1;36m[libx264 @ 0x5568d61d3380] \u001b[0mkb/s:283.63\n"
     ]
    }
   ],
   "source": [
    "! ffmpeg -i 'images/img%01d.png' julia.mp4 "
   ]
  },
  {
   "cell_type": "code",
   "execution_count": 55,
   "metadata": {
    "ExecuteTime": {
     "end_time": "2020-08-31T08:53:28.325803Z",
     "start_time": "2020-08-31T08:53:28.106026Z"
    },
    "collapsed": true
   },
   "outputs": [
    {
     "name": "stdout",
     "output_type": "stream",
     "text": [
      "ffmpeg version n4.3.1 Copyright (c) 2000-2020 the FFmpeg developers\n",
      "  built with gcc 10.1.0 (GCC)\n",
      "  configuration: --prefix=/usr --disable-debug --disable-static --disable-stripping --enable-avisynth --enable-fontconfig --enable-gmp --enable-gnutls --enable-gpl --enable-ladspa --enable-libaom --enable-libass --enable-libbluray --enable-libdav1d --enable-libdrm --enable-libfreetype --enable-libfribidi --enable-libgsm --enable-libiec61883 --enable-libjack --enable-libmfx --enable-libmodplug --enable-libmp3lame --enable-libopencore_amrnb --enable-libopencore_amrwb --enable-libopenjpeg --enable-libopus --enable-libpulse --enable-librav1e --enable-libsoxr --enable-libspeex --enable-libsrt --enable-libssh --enable-libtheora --enable-libv4l2 --enable-libvidstab --enable-libvmaf --enable-libvorbis --enable-libvpx --enable-libwebp --enable-libx264 --enable-libx265 --enable-libxcb --enable-libxml2 --enable-libxvid --enable-nvdec --enable-nvenc --enable-omx --enable-shared --enable-version3\n",
      "  libavutil      56. 51.100 / 56. 51.100\n",
      "  libavcodec     58. 91.100 / 58. 91.100\n",
      "  libavformat    58. 45.100 / 58. 45.100\n",
      "  libavdevice    58. 10.100 / 58. 10.100\n",
      "  libavfilter     7. 85.100 /  7. 85.100\n",
      "  libswscale      5.  7.100 /  5.  7.100\n",
      "  libswresample   3.  7.100 /  3.  7.100\n",
      "  libpostproc    55.  7.100 / 55.  7.100\n",
      "Input #0, mov,mp4,m4a,3gp,3g2,mj2, from 'julia6.mp4':\n",
      "  Metadata:\n",
      "    major_brand     : isom\n",
      "    minor_version   : 512\n",
      "    compatible_brands: isomiso2avc1mp41\n",
      "    encoder         : Lavf58.45.100\n",
      "  Duration: 00:04:11.36, start: 0.000000, bitrate: 286 kb/s\n",
      "    Stream #0:0(und): Video: h264 (High 4:4:4 Predictive) (avc1 / 0x31637661), yuv444p, 500x500, 283 kb/s, 25 fps, 25 tbr, 12800 tbn, 50 tbc (default)\n",
      "    Metadata:\n",
      "      handler_name    : VideoHandler\n",
      "Output #0, mp4, to 'julia7.mp4':\n",
      "  Metadata:\n",
      "    major_brand     : isom\n",
      "    minor_version   : 512\n",
      "    compatible_brands: isomiso2avc1mp41\n",
      "    encoder         : Lavf58.45.100\n",
      "    Stream #0:0(und): Video: h264 (High 4:4:4 Predictive) (avc1 / 0x31637661), yuv444p, 500x500, q=2-31, 283 kb/s, 25 fps, 25 tbr, 12800 tbn, 12800 tbc (default)\n",
      "    Metadata:\n",
      "      handler_name    : VideoHandler\n",
      "Stream mapping:\n",
      "  Stream #0:0 -> #0:0 (copy)\n",
      "Press [q] to stop, [?] for help\n",
      "frame= 6284 fps=0.0 q=-1.0 Lsize=    8787kB time=00:00:33.41 bitrate=2154.3kbits/s speed=1.39e+03x    \n",
      "video:8703kB audio:0kB subtitle:0kB other streams:0kB global headers:0kB muxing overhead: 0.963490%\n"
     ]
    }
   ],
   "source": [
    "! ffmpeg -itsscale 0.091 -i julia.mp4 -c copy julia_11x.mp4"
   ]
  }
 ],
 "metadata": {
  "hide_input": false,
  "kernelspec": {
   "display_name": "SageMath 9.1",
   "language": "sage",
   "name": "sagemath"
  },
  "language_info": {
   "codemirror_mode": {
    "name": "ipython",
    "version": 3
   },
   "file_extension": ".py",
   "mimetype": "text/x-python",
   "name": "python",
   "nbconvert_exporter": "python",
   "pygments_lexer": "ipython3",
   "version": "3.8.5"
  },
  "toc": {
   "base_numbering": 1,
   "nav_menu": {},
   "number_sections": true,
   "sideBar": true,
   "skip_h1_title": false,
   "title_cell": "Table of Contents",
   "title_sidebar": "Contents",
   "toc_cell": false,
   "toc_position": {},
   "toc_section_display": true,
   "toc_window_display": false
  }
 },
 "nbformat": 4,
 "nbformat_minor": 4
}

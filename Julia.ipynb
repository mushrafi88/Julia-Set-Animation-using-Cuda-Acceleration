{
 "cells": [
  {
   "cell_type": "markdown",
   "metadata": {},
   "source": [
    "### Julia set Animation using SageMath's Built in module"
   ]
  },
  {
   "cell_type": "code",
   "execution_count": null,
   "metadata": {},
   "outputs": [],
   "source": [
    "%display latex\n",
    "import warnings; warnings.simplefilter('ignore')\n",
    "from IPython.core.interactiveshell import InteractiveShell\n",
    "InteractiveShell.ast_node_interactivity = \"all\""
   ]
  },
  {
   "cell_type": "code",
   "execution_count": null,
   "metadata": {},
   "outputs": [],
   "source": [
    "! mkdir -p images images-test"
   ]
  },
  {
   "cell_type": "code",
   "execution_count": null,
   "metadata": {
    "execution": {
     "iopub.execute_input": "2020-08-30T22:54:32.809043Z",
     "iopub.status.busy": "2020-08-30T22:54:32.808524Z",
     "iopub.status.idle": "2020-08-30T22:54:32.887290Z",
     "shell.execute_reply": "2020-08-30T22:54:32.883746Z",
     "shell.execute_reply.started": "2020-08-30T22:54:32.808999Z"
    }
   },
   "outputs": [],
   "source": [
    "R.<z> = CC[]\n",
    "a = var('a')\n",
    "lis = []\n",
    "f = z^2+0.7885*exp(I*a)\n",
    "iter = 0 \n",
    "for a in srange(0.0,2*pi,0.001):\n",
    "    f = z^2+0.7885*exp(I*a)\n",
    "    j=julia_plot(f,mandelbrot=False,base_color='#713236')\n",
    "    j.save('images/img{}.png'.format(iter))\n",
    "    iter+=1\n",
    "iter    "
   ]
  },
  {
   "cell_type": "code",
   "execution_count": null,
   "metadata": {},
   "outputs": [],
   "source": [
    "#convert images to video\n",
    "! ffmpeg -i 'images/img%01d.png' julia.mp4 "
   ]
  },
  {
   "cell_type": "code",
   "execution_count": null,
   "metadata": {},
   "outputs": [],
   "source": [
    "#change video speed (1/11)=0.091 ; 11x time\n",
    "! ffmpeg -itsscale 0.091 -i julia.mp4 -c copy julia_11x.mp4"
   ]
  },
  {
   "cell_type": "code",
   "execution_count": null,
   "metadata": {
    "scrolled": false
   },
   "outputs": [],
   "source": [
    "#to make the final video playable with all media platforms\n",
    "! ffmpeg -i input-file -c:v libx264 -crf 24 -pix_fmt yuv420p -tune film -c:a aac -b:a 192k -ar 44100 -vol 300 -strict -2 -speed fastest output-file\n"
   ]
  },
  {
   "cell_type": "code",
   "execution_count": null,
   "metadata": {},
   "outputs": [],
   "source": []
  }
 ],
 "metadata": {
  "hide_input": false,
  "kernelspec": {
   "display_name": "SageMath 9.1",
   "language": "sage",
   "name": "sagemath"
  },
  "language_info": {
   "codemirror_mode": {
    "name": "ipython",
    "version": 3
   },
   "file_extension": ".py",
   "mimetype": "text/x-python",
   "name": "python",
   "nbconvert_exporter": "python",
   "pygments_lexer": "ipython3",
   "version": "3.8.5"
  },
  "toc": {
   "base_numbering": 1,
   "nav_menu": {},
   "number_sections": true,
   "sideBar": true,
   "skip_h1_title": false,
   "title_cell": "Table of Contents",
   "title_sidebar": "Contents",
   "toc_cell": false,
   "toc_position": {},
   "toc_section_display": true,
   "toc_window_display": false
  }
 },
 "nbformat": 4,
 "nbformat_minor": 4
}
